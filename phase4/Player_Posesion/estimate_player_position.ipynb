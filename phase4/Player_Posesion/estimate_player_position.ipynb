{
 "cells": [
  {
   "cell_type": "code",
   "execution_count": 1,
   "id": "97c20ef7",
   "metadata": {
    "id": "97c20ef7"
   },
   "outputs": [],
   "source": [
    "import pandas as pd\n",
    "import numpy as np\n"
   ]
  },
  {
   "cell_type": "code",
   "execution_count": 2,
   "id": "eb0aadf5",
   "metadata": {
    "colab": {
     "base_uri": "https://localhost:8080/",
     "height": 308
    },
    "id": "eb0aadf5",
    "outputId": "d4e02b55-b7d3-4923-9677-e1eac3c5ad2c"
   },
   "outputs": [
    {
     "data": {
      "text/html": [
       "<div>\n",
       "<style scoped>\n",
       "    .dataframe tbody tr th:only-of-type {\n",
       "        vertical-align: middle;\n",
       "    }\n",
       "\n",
       "    .dataframe tbody tr th {\n",
       "        vertical-align: top;\n",
       "    }\n",
       "\n",
       "    .dataframe thead th {\n",
       "        text-align: right;\n",
       "    }\n",
       "</style>\n",
       "<table border=\"1\" class=\"dataframe\">\n",
       "  <thead>\n",
       "    <tr style=\"text-align: right;\">\n",
       "      <th></th>\n",
       "      <th>Unnamed: 0</th>\n",
       "      <th>player_id</th>\n",
       "      <th>season</th>\n",
       "      <th>team_id</th>\n",
       "      <th>market_value</th>\n",
       "      <th>player_name</th>\n",
       "      <th>birthdate</th>\n",
       "      <th>height</th>\n",
       "      <th>main_position</th>\n",
       "      <th>national_team</th>\n",
       "      <th>foot</th>\n",
       "      <th>age</th>\n",
       "      <th>agent_name</th>\n",
       "      <th>assists</th>\n",
       "      <th>yellow_cards</th>\n",
       "      <th>red_cards</th>\n",
       "      <th>injury</th>\n",
       "      <th>player_app</th>\n",
       "      <th>goals</th>\n",
       "      <th>own_goals</th>\n",
       "    </tr>\n",
       "  </thead>\n",
       "  <tbody>\n",
       "    <tr>\n",
       "      <th>3709</th>\n",
       "      <td>3709</td>\n",
       "      <td>129476</td>\n",
       "      <td>2019</td>\n",
       "      <td>1010</td>\n",
       "      <td>20000000.0</td>\n",
       "      <td>Gerard Deulofeu</td>\n",
       "      <td>1994-03-13</td>\n",
       "      <td>177.0</td>\n",
       "      <td>Centre-Forward</td>\n",
       "      <td>Spain</td>\n",
       "      <td>right</td>\n",
       "      <td>29.0</td>\n",
       "      <td>Unknown</td>\n",
       "      <td>0.0</td>\n",
       "      <td>NaN</td>\n",
       "      <td>NaN</td>\n",
       "      <td>0.0</td>\n",
       "      <td>NaN</td>\n",
       "      <td>NaN</td>\n",
       "      <td>NaN</td>\n",
       "    </tr>\n",
       "    <tr>\n",
       "      <th>18577</th>\n",
       "      <td>18577</td>\n",
       "      <td>282810</td>\n",
       "      <td>2019</td>\n",
       "      <td>12</td>\n",
       "      <td>9000000.0</td>\n",
       "      <td>Carles Perez</td>\n",
       "      <td>1998-02-16</td>\n",
       "      <td>173.0</td>\n",
       "      <td>Right Winger</td>\n",
       "      <td>Spain U21</td>\n",
       "      <td>left</td>\n",
       "      <td>25.0</td>\n",
       "      <td>Unknown</td>\n",
       "      <td>0.0</td>\n",
       "      <td>NaN</td>\n",
       "      <td>NaN</td>\n",
       "      <td>0.0</td>\n",
       "      <td>NaN</td>\n",
       "      <td>NaN</td>\n",
       "      <td>NaN</td>\n",
       "    </tr>\n",
       "    <tr>\n",
       "      <th>15294</th>\n",
       "      <td>15294</td>\n",
       "      <td>88683</td>\n",
       "      <td>2015</td>\n",
       "      <td>1025</td>\n",
       "      <td>11000000.0</td>\n",
       "      <td>Mattia Destro</td>\n",
       "      <td>1991-03-20</td>\n",
       "      <td>182.0</td>\n",
       "      <td>Centre-Forward</td>\n",
       "      <td>Italy</td>\n",
       "      <td>right</td>\n",
       "      <td>32.0</td>\n",
       "      <td>Unknown</td>\n",
       "      <td>2.0</td>\n",
       "      <td>9.0</td>\n",
       "      <td>0.0</td>\n",
       "      <td>9.0</td>\n",
       "      <td>5.0</td>\n",
       "      <td>8.0</td>\n",
       "      <td>NaN</td>\n",
       "    </tr>\n",
       "    <tr>\n",
       "      <th>13021</th>\n",
       "      <td>13021</td>\n",
       "      <td>125614</td>\n",
       "      <td>2019</td>\n",
       "      <td>533</td>\n",
       "      <td>4000000.0</td>\n",
       "      <td>Sargis Adamyan</td>\n",
       "      <td>1993-05-23</td>\n",
       "      <td>184.0</td>\n",
       "      <td>Centre-Forward</td>\n",
       "      <td>Armenia</td>\n",
       "      <td>right</td>\n",
       "      <td>30.0</td>\n",
       "      <td>Karl M. Herzog ...</td>\n",
       "      <td>0.0</td>\n",
       "      <td>NaN</td>\n",
       "      <td>NaN</td>\n",
       "      <td>15.0</td>\n",
       "      <td>15.0</td>\n",
       "      <td>NaN</td>\n",
       "      <td>NaN</td>\n",
       "    </tr>\n",
       "  </tbody>\n",
       "</table>\n",
       "</div>"
      ],
      "text/plain": [
       "       Unnamed: 0  player_id  season  team_id  market_value      player_name  \\\n",
       "3709         3709     129476    2019     1010    20000000.0  Gerard Deulofeu   \n",
       "18577       18577     282810    2019       12     9000000.0     Carles Perez   \n",
       "15294       15294      88683    2015     1025    11000000.0    Mattia Destro   \n",
       "13021       13021     125614    2019      533     4000000.0   Sargis Adamyan   \n",
       "\n",
       "        birthdate  height   main_position national_team   foot   age  \\\n",
       "3709   1994-03-13   177.0  Centre-Forward         Spain  right  29.0   \n",
       "18577  1998-02-16   173.0    Right Winger     Spain U21   left  25.0   \n",
       "15294  1991-03-20   182.0  Centre-Forward         Italy  right  32.0   \n",
       "13021  1993-05-23   184.0  Centre-Forward       Armenia  right  30.0   \n",
       "\n",
       "               agent_name  assists  yellow_cards  red_cards  injury  \\\n",
       "3709              Unknown      0.0           NaN        NaN     0.0   \n",
       "18577             Unknown      0.0           NaN        NaN     0.0   \n",
       "15294             Unknown      2.0           9.0        0.0     9.0   \n",
       "13021  Karl M. Herzog ...      0.0           NaN        NaN    15.0   \n",
       "\n",
       "       player_app  goals  own_goals  \n",
       "3709          NaN    NaN        NaN  \n",
       "18577         NaN    NaN        NaN  \n",
       "15294         5.0    8.0        NaN  \n",
       "13021        15.0    NaN        NaN  "
      ]
     },
     "execution_count": 2,
     "metadata": {},
     "output_type": "execute_result"
    }
   ],
   "source": [
    "df = pd.read_csv('total_players_data.csv')\n",
    "df.sample(4)"
   ]
  },
  {
   "cell_type": "code",
   "execution_count": 3,
   "id": "9acab1cd",
   "metadata": {
    "colab": {
     "base_uri": "https://localhost:8080/",
     "height": 112
    },
    "id": "9acab1cd",
    "outputId": "ab970aba-534c-49ac-c5c8-0aaa7a9ed897"
   },
   "outputs": [
    {
     "data": {
      "text/html": [
       "<div>\n",
       "<style scoped>\n",
       "    .dataframe tbody tr th:only-of-type {\n",
       "        vertical-align: middle;\n",
       "    }\n",
       "\n",
       "    .dataframe tbody tr th {\n",
       "        vertical-align: top;\n",
       "    }\n",
       "\n",
       "    .dataframe thead th {\n",
       "        text-align: right;\n",
       "    }\n",
       "</style>\n",
       "<table border=\"1\" class=\"dataframe\">\n",
       "  <thead>\n",
       "    <tr style=\"text-align: right;\">\n",
       "      <th></th>\n",
       "      <th>market_value</th>\n",
       "      <th>height</th>\n",
       "      <th>main_position</th>\n",
       "      <th>foot</th>\n",
       "      <th>age</th>\n",
       "      <th>assists</th>\n",
       "      <th>yellow_cards</th>\n",
       "      <th>red_cards</th>\n",
       "      <th>injury</th>\n",
       "      <th>player_app</th>\n",
       "      <th>goals</th>\n",
       "      <th>own_goals</th>\n",
       "    </tr>\n",
       "  </thead>\n",
       "  <tbody>\n",
       "    <tr>\n",
       "      <th>0</th>\n",
       "      <td>35000000.0</td>\n",
       "      <td>200.0</td>\n",
       "      <td>Goalkeeper</td>\n",
       "      <td>left</td>\n",
       "      <td>31.0</td>\n",
       "      <td>0.0</td>\n",
       "      <td>1.0</td>\n",
       "      <td>2.0</td>\n",
       "      <td>18.0</td>\n",
       "      <td>26.0</td>\n",
       "      <td>NaN</td>\n",
       "      <td>NaN</td>\n",
       "    </tr>\n",
       "    <tr>\n",
       "      <th>1</th>\n",
       "      <td>12000000.0</td>\n",
       "      <td>199.0</td>\n",
       "      <td>Goalkeeper</td>\n",
       "      <td>right</td>\n",
       "      <td>35.0</td>\n",
       "      <td>0.0</td>\n",
       "      <td>NaN</td>\n",
       "      <td>NaN</td>\n",
       "      <td>0.0</td>\n",
       "      <td>22.0</td>\n",
       "      <td>NaN</td>\n",
       "      <td>NaN</td>\n",
       "    </tr>\n",
       "  </tbody>\n",
       "</table>\n",
       "</div>"
      ],
      "text/plain": [
       "   market_value  height main_position   foot   age  assists  yellow_cards  \\\n",
       "0    35000000.0   200.0    Goalkeeper   left  31.0      0.0           1.0   \n",
       "1    12000000.0   199.0    Goalkeeper  right  35.0      0.0           NaN   \n",
       "\n",
       "   red_cards  injury  player_app  goals  own_goals  \n",
       "0        2.0    18.0        26.0    NaN        NaN  \n",
       "1        NaN     0.0        22.0    NaN        NaN  "
      ]
     },
     "execution_count": 3,
     "metadata": {},
     "output_type": "execute_result"
    }
   ],
   "source": [
    "df.drop(['Unnamed: 0', 'player_id', 'season', 'team_id', 'player_name', 'birthdate', 'national_team', 'agent_name'], axis=1, inplace=True)\n",
    "df.head(2)"
   ]
  },
  {
   "cell_type": "code",
   "execution_count": 4,
   "id": "e3e05ecc",
   "metadata": {
    "id": "e3e05ecc",
    "scrolled": true
   },
   "outputs": [],
   "source": [
    "med_height = df['height'].median()\n",
    "med_age = df['age'].median()"
   ]
  },
  {
   "cell_type": "code",
   "execution_count": 5,
   "id": "65bc561e",
   "metadata": {
    "colab": {
     "base_uri": "https://localhost:8080/",
     "height": 187
    },
    "id": "65bc561e",
    "outputId": "4554c3f1-8796-4717-a7c1-8c2bf885cab9"
   },
   "outputs": [
    {
     "data": {
      "text/html": [
       "<div>\n",
       "<style scoped>\n",
       "    .dataframe tbody tr th:only-of-type {\n",
       "        vertical-align: middle;\n",
       "    }\n",
       "\n",
       "    .dataframe tbody tr th {\n",
       "        vertical-align: top;\n",
       "    }\n",
       "\n",
       "    .dataframe thead th {\n",
       "        text-align: right;\n",
       "    }\n",
       "</style>\n",
       "<table border=\"1\" class=\"dataframe\">\n",
       "  <thead>\n",
       "    <tr style=\"text-align: right;\">\n",
       "      <th></th>\n",
       "      <th>market_value</th>\n",
       "      <th>height</th>\n",
       "      <th>main_position</th>\n",
       "      <th>foot</th>\n",
       "      <th>age</th>\n",
       "      <th>assists</th>\n",
       "      <th>yellow_cards</th>\n",
       "      <th>red_cards</th>\n",
       "      <th>injury</th>\n",
       "      <th>player_app</th>\n",
       "      <th>goals</th>\n",
       "      <th>own_goals</th>\n",
       "    </tr>\n",
       "  </thead>\n",
       "  <tbody>\n",
       "    <tr>\n",
       "      <th>10754</th>\n",
       "      <td>2750000.0</td>\n",
       "      <td>184.0</td>\n",
       "      <td>Right Midfield</td>\n",
       "      <td>right</td>\n",
       "      <td>33.0</td>\n",
       "      <td>0.0</td>\n",
       "      <td>0.0</td>\n",
       "      <td>0.0</td>\n",
       "      <td>3.0</td>\n",
       "      <td>14.0</td>\n",
       "      <td>0.0</td>\n",
       "      <td>0.0</td>\n",
       "    </tr>\n",
       "    <tr>\n",
       "      <th>21203</th>\n",
       "      <td>600000.0</td>\n",
       "      <td>178.0</td>\n",
       "      <td>Defensive Midfield</td>\n",
       "      <td>right</td>\n",
       "      <td>30.0</td>\n",
       "      <td>0.0</td>\n",
       "      <td>1.0</td>\n",
       "      <td>0.0</td>\n",
       "      <td>0.0</td>\n",
       "      <td>6.0</td>\n",
       "      <td>0.0</td>\n",
       "      <td>0.0</td>\n",
       "    </tr>\n",
       "    <tr>\n",
       "      <th>10832</th>\n",
       "      <td>3500000.0</td>\n",
       "      <td>193.0</td>\n",
       "      <td>Centre-Forward</td>\n",
       "      <td>left</td>\n",
       "      <td>29.0</td>\n",
       "      <td>0.0</td>\n",
       "      <td>0.0</td>\n",
       "      <td>0.0</td>\n",
       "      <td>7.0</td>\n",
       "      <td>24.0</td>\n",
       "      <td>0.0</td>\n",
       "      <td>0.0</td>\n",
       "    </tr>\n",
       "  </tbody>\n",
       "</table>\n",
       "</div>"
      ],
      "text/plain": [
       "       market_value  height       main_position   foot   age  assists  \\\n",
       "10754     2750000.0   184.0      Right Midfield  right  33.0      0.0   \n",
       "21203      600000.0   178.0  Defensive Midfield  right  30.0      0.0   \n",
       "10832     3500000.0   193.0      Centre-Forward   left  29.0      0.0   \n",
       "\n",
       "       yellow_cards  red_cards  injury  player_app  goals  own_goals  \n",
       "10754           0.0        0.0     3.0        14.0    0.0        0.0  \n",
       "21203           1.0        0.0     0.0         6.0    0.0        0.0  \n",
       "10832           0.0        0.0     7.0        24.0    0.0        0.0  "
      ]
     },
     "execution_count": 5,
     "metadata": {},
     "output_type": "execute_result"
    }
   ],
   "source": [
    "df = df.dropna(subset=['market_value'])\n",
    "df['goals'].fillna(0, inplace=True)\n",
    "df['own_goals'].fillna(0, inplace=True)\n",
    "df['yellow_cards'].fillna(0, inplace=True)\n",
    "df['red_cards'].fillna(0, inplace=True)\n",
    "df['player_app'].fillna(0, inplace=True)\n",
    "df['age'].fillna(med_age, inplace=True)\n",
    "df['foot'].fillna(value='right',inplace=True)\n",
    "df['height'].fillna(value=med_height, inplace=True)\n",
    "df['main_position'].fillna(value='unknown', inplace=True)\n",
    "df.sample(3)"
   ]
  },
  {
   "cell_type": "code",
   "execution_count": 6,
   "id": "51749846",
   "metadata": {
    "colab": {
     "base_uri": "https://localhost:8080/"
    },
    "id": "51749846",
    "outputId": "7997f463-f039-487c-b57e-206a5530ea4d"
   },
   "outputs": [
    {
     "data": {
      "text/plain": [
       "market_value     0\n",
       "height           0\n",
       "main_position    0\n",
       "foot             0\n",
       "age              0\n",
       "assists          0\n",
       "yellow_cards     0\n",
       "red_cards        0\n",
       "injury           0\n",
       "player_app       0\n",
       "goals            0\n",
       "own_goals        0\n",
       "dtype: int64"
      ]
     },
     "execution_count": 6,
     "metadata": {},
     "output_type": "execute_result"
    }
   ],
   "source": [
    "df.isna().sum()"
   ]
  },
  {
   "cell_type": "code",
   "execution_count": 7,
   "id": "RBBkFoYE_jCw",
   "metadata": {
    "colab": {
     "base_uri": "https://localhost:8080/"
    },
    "id": "RBBkFoYE_jCw",
    "outputId": "01be4995-6e32-4f5c-e198-760d7b261504"
   },
   "outputs": [
    {
     "data": {
      "text/plain": [
       "unknown               3812\n",
       "Centre-Back           3620\n",
       "Centre-Forward        2862\n",
       "Central Midfield      2650\n",
       "Goalkeeper            2240\n",
       "Defensive Midfield    1750\n",
       "Right-Back            1698\n",
       "Left-Back             1538\n",
       "Right Winger          1251\n",
       "Left Winger           1243\n",
       "Attacking Midfield    1202\n",
       "Second Striker         175\n",
       "Left Midfield          145\n",
       "Right Midfield         143\n",
       "Attack                   8\n",
       "midfield                 3\n",
       "Defender                 1\n",
       "Name: main_position, dtype: int64"
      ]
     },
     "execution_count": 7,
     "metadata": {},
     "output_type": "execute_result"
    }
   ],
   "source": [
    "df['main_position'].value_counts()"
   ]
  },
  {
   "cell_type": "code",
   "execution_count": 8,
   "id": "a_DjHujrJYcD",
   "metadata": {
    "colab": {
     "base_uri": "https://localhost:8080/"
    },
    "id": "a_DjHujrJYcD",
    "outputId": "4048a62f-9e7d-4b17-d73d-66404daff612"
   },
   "outputs": [
    {
     "data": {
      "text/plain": [
       "Centre-Back           3620\n",
       "Centre-Forward        2862\n",
       "Central Midfield      2650\n",
       "Goalkeeper            2240\n",
       "Defensive Midfield    1750\n",
       "Right-Back            1698\n",
       "Left-Back             1538\n",
       "Right Winger          1251\n",
       "Left Winger           1243\n",
       "Attacking Midfield    1202\n",
       "Second Striker         175\n",
       "Left Midfield          145\n",
       "Right Midfield         143\n",
       "Attack                   8\n",
       "midfield                 3\n",
       "Defender                 1\n",
       "Name: main_position, dtype: int64"
      ]
     },
     "execution_count": 8,
     "metadata": {},
     "output_type": "execute_result"
    }
   ],
   "source": [
    "df = df[df['main_position'] != 'unknown']\n",
    "df['main_position'].value_counts()"
   ]
  },
  {
   "cell_type": "code",
   "execution_count": 9,
   "id": "u71y9TpeJYYM",
   "metadata": {
    "colab": {
     "base_uri": "https://localhost:8080/"
    },
    "id": "u71y9TpeJYYM",
    "outputId": "61aa22e7-bf9c-4e29-b1f1-a521f0ffbc06"
   },
   "outputs": [
    {
     "data": {
      "text/plain": [
       "Defender      6857\n",
       "Midfielder    5893\n",
       "Forward       3045\n",
       "Winger        2494\n",
       "Goalkeeper    2240\n",
       "Name: main_position, dtype: int64"
      ]
     },
     "execution_count": 9,
     "metadata": {},
     "output_type": "execute_result"
    }
   ],
   "source": [
    "class_maps = {\n",
    "    'Forward': ['Centre-Forward', 'Second Striker', 'Attack'], \n",
    "    'Midfielder': ['Central Midfield', 'Defensive Midfield', 'Attacking Midfield','Left Midfield', 'Right Midfield', 'midfield'], \n",
    "    'Defender': ['Defender', 'Centre-Back','Right-Back', 'Left-Back'], \n",
    "    'Winger': ['Right Winger', 'Left Winger'],\n",
    "    'Goalkeeper': ['Goalkeeper']\n",
    "}\n",
    "for key, value in class_maps.items():\n",
    "    df['main_position'] = df['main_position'].apply(lambda x: key if x in value else x)\n",
    "df['main_position'].value_counts()"
   ]
  },
  {
   "cell_type": "code",
   "execution_count": 10,
   "id": "PvVTqv4c_B5y",
   "metadata": {
    "id": "PvVTqv4c_B5y"
   },
   "outputs": [],
   "source": [
    "# def create_dict(lst):\n",
    "#   return {value:index for index, value in enumerate(lst)}"
   ]
  },
  {
   "cell_type": "code",
   "execution_count": 11,
   "id": "ec6f5910",
   "metadata": {
    "id": "ec6f5910"
   },
   "outputs": [],
   "source": [
    "# df['main_position']=df['main_position'].map(create_dict(df['main_position'].unique()))"
   ]
  },
  {
   "cell_type": "code",
   "execution_count": 12,
   "id": "vgISPOfXRtWa",
   "metadata": {
    "colab": {
     "base_uri": "https://localhost:8080/"
    },
    "id": "vgISPOfXRtWa",
    "outputId": "bab264ba-1bd7-4fe4-9582-ceda47ee72d0"
   },
   "outputs": [
    {
     "name": "stdout",
     "output_type": "stream",
     "text": [
      "['Defender', 'Forward', 'Goalkeeper', 'Midfielder', 'Winger']\n"
     ]
    }
   ],
   "source": [
    "from sklearn.preprocessing import LabelEncoder\n",
    "le = LabelEncoder()\n",
    "df['main_position'] = le.fit_transform(df['main_position'])\n",
    "classes_ = list(le.classes_)\n",
    "print(classes_)\n",
    "le = LabelEncoder()\n",
    "df['foot'] = le.fit_transform(df['foot'])"
   ]
  },
  {
   "cell_type": "code",
   "execution_count": 13,
   "id": "10e9962d",
   "metadata": {
    "colab": {
     "base_uri": "https://localhost:8080/"
    },
    "id": "10e9962d",
    "outputId": "3d783d0f-371e-4757-bfc1-06e882315720"
   },
   "outputs": [
    {
     "data": {
      "text/plain": [
       "0    6857\n",
       "3    5893\n",
       "1    3045\n",
       "4    2494\n",
       "2    2240\n",
       "Name: main_position, dtype: int64"
      ]
     },
     "execution_count": 13,
     "metadata": {},
     "output_type": "execute_result"
    }
   ],
   "source": [
    "df['main_position'].value_counts()"
   ]
  },
  {
   "cell_type": "markdown",
   "id": "Rus68XmDYTUQ",
   "metadata": {
    "id": "Rus68XmDYTUQ"
   },
   "source": [
    "# Normalization"
   ]
  },
  {
   "cell_type": "markdown",
   "id": "2QkYHeLuYVAc",
   "metadata": {
    "id": "2QkYHeLuYVAc"
   },
   "source": [
    "* because we know maximum of everything in the history of footbal in this task, we can divide all the dataframes by their maximums"
   ]
  },
  {
   "cell_type": "code",
   "execution_count": 14,
   "id": "Kt_S0SOraGGF",
   "metadata": {
    "colab": {
     "base_uri": "https://localhost:8080/"
    },
    "id": "Kt_S0SOraGGF",
    "outputId": "0454c5ae-f2db-47e6-cda3-8f10601b294a"
   },
   "outputs": [
    {
     "data": {
      "text/plain": [
       "Index(['market_value', 'height', 'main_position', 'foot', 'age', 'assists',\n",
       "       'yellow_cards', 'red_cards', 'injury', 'player_app', 'goals',\n",
       "       'own_goals'],\n",
       "      dtype='object')"
      ]
     },
     "execution_count": 14,
     "metadata": {},
     "output_type": "execute_result"
    }
   ],
   "source": [
    "df.columns   "
   ]
  },
  {
   "cell_type": "code",
   "execution_count": 15,
   "id": "K9_NnZzqR6cp",
   "metadata": {
    "colab": {
     "base_uri": "https://localhost:8080/",
     "height": 270
    },
    "id": "K9_NnZzqR6cp",
    "outputId": "f6c0602b-b67e-4720-99c8-70f87af7cde7"
   },
   "outputs": [
    {
     "data": {
      "text/html": [
       "<div>\n",
       "<style scoped>\n",
       "    .dataframe tbody tr th:only-of-type {\n",
       "        vertical-align: middle;\n",
       "    }\n",
       "\n",
       "    .dataframe tbody tr th {\n",
       "        vertical-align: top;\n",
       "    }\n",
       "\n",
       "    .dataframe thead th {\n",
       "        text-align: right;\n",
       "    }\n",
       "</style>\n",
       "<table border=\"1\" class=\"dataframe\">\n",
       "  <thead>\n",
       "    <tr style=\"text-align: right;\">\n",
       "      <th></th>\n",
       "      <th>market_value</th>\n",
       "      <th>height</th>\n",
       "      <th>main_position</th>\n",
       "      <th>foot</th>\n",
       "      <th>age</th>\n",
       "      <th>assists</th>\n",
       "      <th>yellow_cards</th>\n",
       "      <th>red_cards</th>\n",
       "      <th>injury</th>\n",
       "      <th>player_app</th>\n",
       "      <th>goals</th>\n",
       "      <th>own_goals</th>\n",
       "    </tr>\n",
       "  </thead>\n",
       "  <tbody>\n",
       "    <tr>\n",
       "      <th>0</th>\n",
       "      <td>0.17500</td>\n",
       "      <td>0.970874</td>\n",
       "      <td>2</td>\n",
       "      <td>0.333333</td>\n",
       "      <td>0.62</td>\n",
       "      <td>0.0</td>\n",
       "      <td>0.0625</td>\n",
       "      <td>0.666667</td>\n",
       "      <td>0.409091</td>\n",
       "      <td>0.309524</td>\n",
       "      <td>0.000000</td>\n",
       "      <td>0.0</td>\n",
       "    </tr>\n",
       "    <tr>\n",
       "      <th>1</th>\n",
       "      <td>0.06000</td>\n",
       "      <td>0.966019</td>\n",
       "      <td>2</td>\n",
       "      <td>0.666667</td>\n",
       "      <td>0.70</td>\n",
       "      <td>0.0</td>\n",
       "      <td>0.0000</td>\n",
       "      <td>0.000000</td>\n",
       "      <td>0.000000</td>\n",
       "      <td>0.261905</td>\n",
       "      <td>0.000000</td>\n",
       "      <td>0.0</td>\n",
       "    </tr>\n",
       "    <tr>\n",
       "      <th>2</th>\n",
       "      <td>0.00125</td>\n",
       "      <td>0.922330</td>\n",
       "      <td>2</td>\n",
       "      <td>0.666667</td>\n",
       "      <td>0.82</td>\n",
       "      <td>0.0</td>\n",
       "      <td>0.0000</td>\n",
       "      <td>0.000000</td>\n",
       "      <td>0.000000</td>\n",
       "      <td>0.000000</td>\n",
       "      <td>0.000000</td>\n",
       "      <td>0.0</td>\n",
       "    </tr>\n",
       "    <tr>\n",
       "      <th>3</th>\n",
       "      <td>0.00125</td>\n",
       "      <td>0.966019</td>\n",
       "      <td>2</td>\n",
       "      <td>0.666667</td>\n",
       "      <td>0.58</td>\n",
       "      <td>0.0</td>\n",
       "      <td>0.0000</td>\n",
       "      <td>0.000000</td>\n",
       "      <td>0.000000</td>\n",
       "      <td>0.000000</td>\n",
       "      <td>0.000000</td>\n",
       "      <td>0.0</td>\n",
       "    </tr>\n",
       "    <tr>\n",
       "      <th>4</th>\n",
       "      <td>0.08500</td>\n",
       "      <td>0.922330</td>\n",
       "      <td>0</td>\n",
       "      <td>0.666667</td>\n",
       "      <td>0.56</td>\n",
       "      <td>0.0</td>\n",
       "      <td>0.0625</td>\n",
       "      <td>0.000000</td>\n",
       "      <td>0.340909</td>\n",
       "      <td>0.166667</td>\n",
       "      <td>0.039216</td>\n",
       "      <td>0.0</td>\n",
       "    </tr>\n",
       "  </tbody>\n",
       "</table>\n",
       "</div>"
      ],
      "text/plain": [
       "   market_value    height  main_position      foot   age  assists  \\\n",
       "0       0.17500  0.970874              2  0.333333  0.62      0.0   \n",
       "1       0.06000  0.966019              2  0.666667  0.70      0.0   \n",
       "2       0.00125  0.922330              2  0.666667  0.82      0.0   \n",
       "3       0.00125  0.966019              2  0.666667  0.58      0.0   \n",
       "4       0.08500  0.922330              0  0.666667  0.56      0.0   \n",
       "\n",
       "   yellow_cards  red_cards    injury  player_app     goals  own_goals  \n",
       "0        0.0625   0.666667  0.409091    0.309524  0.000000        0.0  \n",
       "1        0.0000   0.000000  0.000000    0.261905  0.000000        0.0  \n",
       "2        0.0000   0.000000  0.000000    0.000000  0.000000        0.0  \n",
       "3        0.0000   0.000000  0.000000    0.000000  0.000000        0.0  \n",
       "4        0.0625   0.000000  0.340909    0.166667  0.039216        0.0  "
      ]
     },
     "execution_count": 15,
     "metadata": {},
     "output_type": "execute_result"
    }
   ],
   "source": [
    "cols = ['market_value', 'height', 'foot', 'age', 'assists',\n",
    "       'yellow_cards', 'red_cards', 'injury', 'player_app', 'goals',\n",
    "       'own_goals']\n",
    "df[cols] = df[cols].apply(lambda col: col / col.max() if col.name != 'main_position' else col)\n",
    "df.head(5)"
   ]
  },
  {
   "cell_type": "markdown",
   "id": "MbHExIYrQk1a",
   "metadata": {
    "id": "MbHExIYrQk1a"
   },
   "source": [
    "# Split"
   ]
  },
  {
   "cell_type": "code",
   "execution_count": 16,
   "id": "2b906eb2",
   "metadata": {
    "colab": {
     "base_uri": "https://localhost:8080/"
    },
    "id": "2b906eb2",
    "outputId": "48a6562b-8281-4c7e-9a75-a8cff5181f72"
   },
   "outputs": [
    {
     "name": "stdout",
     "output_type": "stream",
     "text": [
      "Number of Train data: 18476\n",
      "Number of Test data: 2053\n"
     ]
    }
   ],
   "source": [
    "from sklearn.model_selection import train_test_split\n",
    "train, test = train_test_split(df, test_size=0.1, random_state=46)\n",
    "print(\"Number of Train data:\", len(train))\n",
    "print(\"Number of Test data:\", len(test))"
   ]
  },
  {
   "cell_type": "code",
   "execution_count": 17,
   "id": "infYr5eTQ66u",
   "metadata": {
    "id": "infYr5eTQ66u"
   },
   "outputs": [],
   "source": [
    "x_train = train.drop('main_position', axis=1)\n",
    "y_train = train['main_position']\n",
    "x_test = test.drop('main_position', axis=1)\n",
    "y_test = test['main_position']"
   ]
  },
  {
   "cell_type": "markdown",
   "id": "0U-S8b3gTRA3",
   "metadata": {
    "id": "0U-S8b3gTRA3"
   },
   "source": [
    "#Apply SVM Grid search"
   ]
  },
  {
   "cell_type": "markdown",
   "id": "fjIHkK4vY2e8",
   "metadata": {
    "id": "fjIHkK4vY2e8"
   },
   "source": [
    "* we first find how much time one iteration will take and set reasonable number of params for the grid search"
   ]
  },
  {
   "cell_type": "code",
   "execution_count": 18,
   "id": "_zROUUYqTlTT",
   "metadata": {
    "id": "_zROUUYqTlTT"
   },
   "outputs": [],
   "source": [
    "from sklearn.model_selection import GridSearchCV\n",
    "from sklearn.svm import SVC"
   ]
  },
  {
   "cell_type": "code",
   "execution_count": 19,
   "id": "FhB1QAKCY_1A",
   "metadata": {
    "colab": {
     "base_uri": "https://localhost:8080/"
    },
    "id": "FhB1QAKCY_1A",
    "outputId": "13ff29d1-b669-440d-9475-d1a2ce8a71a4"
   },
   "outputs": [
    {
     "name": "stdout",
     "output_type": "stream",
     "text": [
      "26.415889024734497\n"
     ]
    }
   ],
   "source": [
    "import time\n",
    "\n",
    "t_start = time.time()\n",
    "clf = SVC(kernel='linear', random_state=42)\n",
    "clf.fit(x_train, y_train)\n",
    "print(time.time() - t_start)"
   ]
  },
  {
   "cell_type": "code",
   "execution_count": 20,
   "id": "R5b5kfffTdFI",
   "metadata": {
    "id": "R5b5kfffTdFI"
   },
   "outputs": [],
   "source": [
    "chosen_arams = {\n",
    "    'C': [0.1, 1, 10, 100],\n",
    "    'gamma': ['scale', 'auto', 0.1, 1, 10, 100],\n",
    "    # 'kernel': ['linear', 'poly', 'rbf', 'sigmoid', 'precomputed'],\n",
    "    # 'degree':[2, 3, 4]\n",
    "}"
   ]
  },
  {
   "cell_type": "markdown",
   "id": "hTBkZphxW96i",
   "metadata": {
    "id": "hTBkZphxW96i"
   },
   "source": [
    "* this will be run 360x5 times and will find the best params"
   ]
  },
  {
   "cell_type": "code",
   "execution_count": 21,
   "id": "ufLJRtmSSgF3",
   "metadata": {
    "id": "ufLJRtmSSgF3"
   },
   "outputs": [
    {
     "name": "stdout",
     "output_type": "stream",
     "text": [
      "Best params-> {'C': 10, 'gamma': 10}\n",
      "Cros validation score-> 0.49318028047730345\n",
      "Elapsed Time-> 4762.50182723999 seconds\n"
     ]
    }
   ],
   "source": [
    "t_start = time.time()\n",
    "svc = SVC(random_state=42)\n",
    "# 5 fold cross validation\n",
    "grid_search = GridSearchCV(svc, chosen_arams, cv=5)\n",
    "\n",
    "grid_search.fit(x_train, y_train)\n",
    "\n",
    "print(\"Best params->\", grid_search.best_params_)\n",
    "print(\"Cros validation score->\", grid_search.best_score_)\n",
    "print('Elapsed Time->', time.time() - t_start, 'seconds')"
   ]
  },
  {
   "cell_type": "code",
   "execution_count": 23,
   "id": "Fck4g0DlW3CD",
   "metadata": {
    "id": "Fck4g0DlW3CD"
   },
   "outputs": [
    {
     "data": {
      "text/html": [
       "<style>#sk-container-id-1 {color: black;background-color: white;}#sk-container-id-1 pre{padding: 0;}#sk-container-id-1 div.sk-toggleable {background-color: white;}#sk-container-id-1 label.sk-toggleable__label {cursor: pointer;display: block;width: 100%;margin-bottom: 0;padding: 0.3em;box-sizing: border-box;text-align: center;}#sk-container-id-1 label.sk-toggleable__label-arrow:before {content: \"▸\";float: left;margin-right: 0.25em;color: #696969;}#sk-container-id-1 label.sk-toggleable__label-arrow:hover:before {color: black;}#sk-container-id-1 div.sk-estimator:hover label.sk-toggleable__label-arrow:before {color: black;}#sk-container-id-1 div.sk-toggleable__content {max-height: 0;max-width: 0;overflow: hidden;text-align: left;background-color: #f0f8ff;}#sk-container-id-1 div.sk-toggleable__content pre {margin: 0.2em;color: black;border-radius: 0.25em;background-color: #f0f8ff;}#sk-container-id-1 input.sk-toggleable__control:checked~div.sk-toggleable__content {max-height: 200px;max-width: 100%;overflow: auto;}#sk-container-id-1 input.sk-toggleable__control:checked~label.sk-toggleable__label-arrow:before {content: \"▾\";}#sk-container-id-1 div.sk-estimator input.sk-toggleable__control:checked~label.sk-toggleable__label {background-color: #d4ebff;}#sk-container-id-1 div.sk-label input.sk-toggleable__control:checked~label.sk-toggleable__label {background-color: #d4ebff;}#sk-container-id-1 input.sk-hidden--visually {border: 0;clip: rect(1px 1px 1px 1px);clip: rect(1px, 1px, 1px, 1px);height: 1px;margin: -1px;overflow: hidden;padding: 0;position: absolute;width: 1px;}#sk-container-id-1 div.sk-estimator {font-family: monospace;background-color: #f0f8ff;border: 1px dotted black;border-radius: 0.25em;box-sizing: border-box;margin-bottom: 0.5em;}#sk-container-id-1 div.sk-estimator:hover {background-color: #d4ebff;}#sk-container-id-1 div.sk-parallel-item::after {content: \"\";width: 100%;border-bottom: 1px solid gray;flex-grow: 1;}#sk-container-id-1 div.sk-label:hover label.sk-toggleable__label {background-color: #d4ebff;}#sk-container-id-1 div.sk-serial::before {content: \"\";position: absolute;border-left: 1px solid gray;box-sizing: border-box;top: 0;bottom: 0;left: 50%;z-index: 0;}#sk-container-id-1 div.sk-serial {display: flex;flex-direction: column;align-items: center;background-color: white;padding-right: 0.2em;padding-left: 0.2em;position: relative;}#sk-container-id-1 div.sk-item {position: relative;z-index: 1;}#sk-container-id-1 div.sk-parallel {display: flex;align-items: stretch;justify-content: center;background-color: white;position: relative;}#sk-container-id-1 div.sk-item::before, #sk-container-id-1 div.sk-parallel-item::before {content: \"\";position: absolute;border-left: 1px solid gray;box-sizing: border-box;top: 0;bottom: 0;left: 50%;z-index: -1;}#sk-container-id-1 div.sk-parallel-item {display: flex;flex-direction: column;z-index: 1;position: relative;background-color: white;}#sk-container-id-1 div.sk-parallel-item:first-child::after {align-self: flex-end;width: 50%;}#sk-container-id-1 div.sk-parallel-item:last-child::after {align-self: flex-start;width: 50%;}#sk-container-id-1 div.sk-parallel-item:only-child::after {width: 0;}#sk-container-id-1 div.sk-dashed-wrapped {border: 1px dashed gray;margin: 0 0.4em 0.5em 0.4em;box-sizing: border-box;padding-bottom: 0.4em;background-color: white;}#sk-container-id-1 div.sk-label label {font-family: monospace;font-weight: bold;display: inline-block;line-height: 1.2em;}#sk-container-id-1 div.sk-label-container {text-align: center;}#sk-container-id-1 div.sk-container {/* jupyter's `normalize.less` sets `[hidden] { display: none; }` but bootstrap.min.css set `[hidden] { display: none !important; }` so we also need the `!important` here to be able to override the default hidden behavior on the sphinx rendered scikit-learn.org. See: https://github.com/scikit-learn/scikit-learn/issues/21755 */display: inline-block !important;position: relative;}#sk-container-id-1 div.sk-text-repr-fallback {display: none;}</style><div id=\"sk-container-id-1\" class=\"sk-top-container\"><div class=\"sk-text-repr-fallback\"><pre>SVC(C=10, gamma=10, random_state=42)</pre><b>In a Jupyter environment, please rerun this cell to show the HTML representation or trust the notebook. <br />On GitHub, the HTML representation is unable to render, please try loading this page with nbviewer.org.</b></div><div class=\"sk-container\" hidden><div class=\"sk-item\"><div class=\"sk-estimator sk-toggleable\"><input class=\"sk-toggleable__control sk-hidden--visually\" id=\"sk-estimator-id-1\" type=\"checkbox\" checked><label for=\"sk-estimator-id-1\" class=\"sk-toggleable__label sk-toggleable__label-arrow\">SVC</label><div class=\"sk-toggleable__content\"><pre>SVC(C=10, gamma=10, random_state=42)</pre></div></div></div></div></div>"
      ],
      "text/plain": [
       "SVC(C=10, gamma=10, random_state=42)"
      ]
     },
     "execution_count": 23,
     "metadata": {},
     "output_type": "execute_result"
    }
   ],
   "source": [
    "clf = SVC(C=10, gamma=10, random_state=42)\n",
    "clf.fit(x_train, y_train)"
   ]
  },
  {
   "cell_type": "code",
   "execution_count": 24,
   "id": "Vwfvjg0ier0h",
   "metadata": {
    "id": "Vwfvjg0ier0h"
   },
   "outputs": [
    {
     "name": "stdout",
     "output_type": "stream",
     "text": [
      "f1 score 0.4804885611188872\n",
      "accuracy 0.4929371651242085\n",
      "precision 0.5077340374080345\n",
      "recall 0.4929371651242085\n"
     ]
    }
   ],
   "source": [
    "from sklearn.metrics import accuracy_score, precision_score, recall_score, f1_score\n",
    "\n",
    "y_pred = clf.predict(x_test)\n",
    "accuracy = accuracy_score(y_test, y_pred)\n",
    "precision = precision_score(y_test, y_pred, average='weighted')\n",
    "recall = recall_score(y_test, y_pred, average='weighted')\n",
    "f1 = f1_score(y_test, y_pred, average='weighted')\n",
    "print('f1 score', f1)\n",
    "print('accuracy', accuracy)\n",
    "print('precision', precision)\n",
    "print('recall', recall)"
   ]
  },
  {
   "cell_type": "code",
   "execution_count": null,
   "id": "8c3ba4b0",
   "metadata": {},
   "outputs": [],
   "source": []
  }
 ],
 "metadata": {
  "colab": {
   "provenance": []
  },
  "kernelspec": {
   "display_name": "Python 3 (ipykernel)",
   "language": "python",
   "name": "python3"
  },
  "language_info": {
   "codemirror_mode": {
    "name": "ipython",
    "version": 3
   },
   "file_extension": ".py",
   "mimetype": "text/x-python",
   "name": "python",
   "nbconvert_exporter": "python",
   "pygments_lexer": "ipython3",
   "version": "3.10.9"
  }
 },
 "nbformat": 4,
 "nbformat_minor": 5
}
